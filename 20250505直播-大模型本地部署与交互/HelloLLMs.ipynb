{
 "cells": [
  {
   "cell_type": "code",
   "execution_count": 3,
   "id": "46e002af-3aa0-4581-9602-04b25319c432",
   "metadata": {
    "tags": []
   },
   "outputs": [],
   "source": [
    "from openai import OpenAI"
   ]
  },
  {
   "cell_type": "code",
   "execution_count": 4,
   "id": "d81dd3f5-1948-4d55-9264-a43e885abff2",
   "metadata": {
    "tags": []
   },
   "outputs": [],
   "source": [
    "client = OpenAI(\n",
    "    base_url = 'http://127.0.0.1:11434/v1',\n",
    "    api_key='ollama',\n",
    ")"
   ]
  },
  {
   "cell_type": "code",
   "execution_count": 5,
   "id": "6d158d10-a42e-44e2-8577-d97cc6489012",
   "metadata": {
    "tags": []
   },
   "outputs": [],
   "source": [
    "system_prompt = \"\"\"\n",
    "不论我问你什么问题，你都只能回答\"是\"或者\"不是\"，不能回答其他任何答案\n",
    "\"\"\""
   ]
  },
  {
   "cell_type": "code",
   "execution_count": 25,
   "id": "120b3681-53e4-4e25-be53-b9fa3d97c77b",
   "metadata": {
    "tags": []
   },
   "outputs": [],
   "source": [
    "user_prompt = '你是人类吗？/no_think'"
   ]
  },
  {
   "cell_type": "code",
   "execution_count": 26,
   "id": "21291125-ff19-4b60-8e08-5932ab810536",
   "metadata": {
    "tags": []
   },
   "outputs": [],
   "source": [
    "messages = [{\"role\":\"system\",\"content\":system_prompt},\n",
    "            {\"role\":\"user\",\"content\":user_prompt}]"
   ]
  },
  {
   "cell_type": "code",
   "execution_count": 27,
   "id": "1831115e-f02d-4cdc-986c-e7a0a5772fda",
   "metadata": {
    "tags": []
   },
   "outputs": [],
   "source": [
    "model = \"qwen3:0.6b\""
   ]
  },
  {
   "cell_type": "code",
   "execution_count": 28,
   "id": "941e72fb-b522-4e4e-a2b1-985e01593929",
   "metadata": {
    "tags": []
   },
   "outputs": [],
   "source": [
    "response = client.chat.completions.create(\n",
    "    model = model,\n",
    "    messages = messages,\n",
    "    temperature = 0.6\n",
    ")"
   ]
  },
  {
   "cell_type": "code",
   "execution_count": 29,
   "id": "3377e5f8-f133-4e5c-a189-fc48d5a6a946",
   "metadata": {
    "tags": []
   },
   "outputs": [
    {
     "name": "stdout",
     "output_type": "stream",
     "text": [
      "<think>\n",
      "\n",
      "</think>\n",
      "\n",
      "不是。\n"
     ]
    }
   ],
   "source": [
    "print(response.choices[0].message.content)"
   ]
  },
  {
   "cell_type": "code",
   "execution_count": 30,
   "id": "2ef1fd89-758f-4d31-ac88-5e4c2ac4a679",
   "metadata": {
    "tags": []
   },
   "outputs": [],
   "source": [
    "result = response.choices[0].message.content"
   ]
  },
  {
   "cell_type": "code",
   "execution_count": 31,
   "id": "d91b1113-0420-4637-9f57-f29c4b02e785",
   "metadata": {
    "tags": []
   },
   "outputs": [
    {
     "data": {
      "text/plain": [
       "'不是。'"
      ]
     },
     "execution_count": 31,
     "metadata": {},
     "output_type": "execute_result"
    }
   ],
   "source": [
    "result.split('/think>\\n\\n')[-1]"
   ]
  },
  {
   "cell_type": "code",
   "execution_count": null,
   "id": "33a2792f-5eb0-487a-ad0d-1608d1cc4b6f",
   "metadata": {},
   "outputs": [],
   "source": []
  }
 ],
 "metadata": {
  "kernelspec": {
   "display_name": "Python 3 (ipykernel)",
   "language": "python",
   "name": "python3"
  },
  "language_info": {
   "codemirror_mode": {
    "name": "ipython",
    "version": 3
   },
   "file_extension": ".py",
   "mimetype": "text/x-python",
   "name": "python",
   "nbconvert_exporter": "python",
   "pygments_lexer": "ipython3",
   "version": "3.11.5"
  }
 },
 "nbformat": 4,
 "nbformat_minor": 5
}
