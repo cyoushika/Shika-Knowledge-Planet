{
 "cells": [
  {
   "cell_type": "code",
   "execution_count": 76,
   "id": "49bb236a-519f-4720-b4db-852161190df1",
   "metadata": {},
   "outputs": [],
   "source": [
    "a = 10\n",
    "b = 15"
   ]
  },
  {
   "cell_type": "code",
   "execution_count": 83,
   "id": "766019e4-5955-40bb-aee4-1423f49b21f8",
   "metadata": {},
   "outputs": [],
   "source": [
    "a = b"
   ]
  },
  {
   "cell_type": "code",
   "execution_count": 86,
   "id": "c7aeca6d-40f3-4632-ba84-b2cd9c58827a",
   "metadata": {},
   "outputs": [
    {
     "data": {
      "text/plain": [
       "True"
      ]
     },
     "execution_count": 86,
     "metadata": {},
     "output_type": "execute_result"
    }
   ],
   "source": [
    "a == b"
   ]
  },
  {
   "cell_type": "code",
   "execution_count": 87,
   "id": "e4704db6-2fb9-4284-8d7d-c102ae621859",
   "metadata": {},
   "outputs": [
    {
     "data": {
      "text/plain": [
       "False"
      ]
     },
     "execution_count": 87,
     "metadata": {},
     "output_type": "execute_result"
    }
   ],
   "source": [
    "a != b"
   ]
  },
  {
   "cell_type": "code",
   "execution_count": 88,
   "id": "cc874842-c218-4ad0-831e-9895757ad542",
   "metadata": {},
   "outputs": [
    {
     "data": {
      "text/plain": [
       "False"
      ]
     },
     "execution_count": 88,
     "metadata": {},
     "output_type": "execute_result"
    }
   ],
   "source": [
    "a > b"
   ]
  },
  {
   "cell_type": "code",
   "execution_count": 89,
   "id": "b8b72b07-4b57-4172-aaec-bead51b83988",
   "metadata": {},
   "outputs": [
    {
     "data": {
      "text/plain": [
       "False"
      ]
     },
     "execution_count": 89,
     "metadata": {},
     "output_type": "execute_result"
    }
   ],
   "source": [
    "a < b"
   ]
  },
  {
   "cell_type": "code",
   "execution_count": 90,
   "id": "77530bb9-d012-4ead-a375-12d0504efbf6",
   "metadata": {},
   "outputs": [
    {
     "data": {
      "text/plain": [
       "True"
      ]
     },
     "execution_count": 90,
     "metadata": {},
     "output_type": "execute_result"
    }
   ],
   "source": [
    "a >= b"
   ]
  },
  {
   "cell_type": "code",
   "execution_count": 91,
   "id": "0c7f9ea4-2613-4dd5-b8ac-414bfad56404",
   "metadata": {},
   "outputs": [
    {
     "data": {
      "text/plain": [
       "True"
      ]
     },
     "execution_count": 91,
     "metadata": {},
     "output_type": "execute_result"
    }
   ],
   "source": [
    "a <= b"
   ]
  },
  {
   "cell_type": "code",
   "execution_count": 92,
   "id": "1380718b-17cc-44c6-9429-8fbfc1067f3e",
   "metadata": {},
   "outputs": [
    {
     "data": {
      "text/plain": [
       "False"
      ]
     },
     "execution_count": 92,
     "metadata": {},
     "output_type": "execute_result"
    }
   ],
   "source": [
    "a == 10"
   ]
  },
  {
   "cell_type": "code",
   "execution_count": 93,
   "id": "4a8f0a9b-a44a-43fc-9125-d0b895dd424a",
   "metadata": {},
   "outputs": [
    {
     "data": {
      "text/plain": [
       "True"
      ]
     },
     "execution_count": 93,
     "metadata": {},
     "output_type": "execute_result"
    }
   ],
   "source": [
    "a == 15"
   ]
  },
  {
   "cell_type": "code",
   "execution_count": 95,
   "id": "ced39376-e227-4379-ad3d-eebcfa44338f",
   "metadata": {},
   "outputs": [
    {
     "data": {
      "text/plain": [
       "False"
      ]
     },
     "execution_count": 95,
     "metadata": {},
     "output_type": "execute_result"
    }
   ],
   "source": [
    "a == 10 and b == 15"
   ]
  },
  {
   "cell_type": "code",
   "execution_count": 96,
   "id": "4a50a016-258a-4c0f-96db-483a7a2a4d15",
   "metadata": {},
   "outputs": [
    {
     "data": {
      "text/plain": [
       "False"
      ]
     },
     "execution_count": 96,
     "metadata": {},
     "output_type": "execute_result"
    }
   ],
   "source": [
    "a == 15 and b == 10"
   ]
  },
  {
   "cell_type": "code",
   "execution_count": 97,
   "id": "e8b624d8-278f-487e-a997-ce198cfb3481",
   "metadata": {},
   "outputs": [
    {
     "data": {
      "text/plain": [
       "False"
      ]
     },
     "execution_count": 97,
     "metadata": {},
     "output_type": "execute_result"
    }
   ],
   "source": [
    "a == 10 and b == 10"
   ]
  },
  {
   "cell_type": "code",
   "execution_count": 98,
   "id": "2c18b148-9f2c-4863-9355-8c6ea3333357",
   "metadata": {},
   "outputs": [
    {
     "data": {
      "text/plain": [
       "True"
      ]
     },
     "execution_count": 98,
     "metadata": {},
     "output_type": "execute_result"
    }
   ],
   "source": [
    "a == 10 or b == 15"
   ]
  },
  {
   "cell_type": "code",
   "execution_count": 99,
   "id": "2df6f25d-86d9-4131-ace0-332d8b6879d4",
   "metadata": {},
   "outputs": [
    {
     "data": {
      "text/plain": [
       "True"
      ]
     },
     "execution_count": 99,
     "metadata": {},
     "output_type": "execute_result"
    }
   ],
   "source": [
    "a == 15 or b == 10"
   ]
  },
  {
   "cell_type": "code",
   "execution_count": 114,
   "id": "44fefad3-450d-4b80-8b4f-75e7eed06802",
   "metadata": {},
   "outputs": [
    {
     "data": {
      "text/plain": [
       "True"
      ]
     },
     "execution_count": 114,
     "metadata": {},
     "output_type": "execute_result"
    }
   ],
   "source": [
    "a == 15 or b == 10"
   ]
  },
  {
   "cell_type": "code",
   "execution_count": 115,
   "id": "b0a1c14c-d2f3-4321-97f7-477a80fcb5ae",
   "metadata": {},
   "outputs": [
    {
     "data": {
      "text/plain": [
       "False"
      ]
     },
     "execution_count": 115,
     "metadata": {},
     "output_type": "execute_result"
    }
   ],
   "source": [
    "not (a == 15 or b == 10)"
   ]
  },
  {
   "cell_type": "code",
   "execution_count": 113,
   "id": "1ea8c3f1-420f-4e45-8e78-12ec20553493",
   "metadata": {},
   "outputs": [
    {
     "data": {
      "text/plain": [
       "False"
      ]
     },
     "execution_count": 113,
     "metadata": {},
     "output_type": "execute_result"
    }
   ],
   "source": [
    "not a == 15 and not b == 10"
   ]
  },
  {
   "cell_type": "code",
   "execution_count": 118,
   "id": "16ca075e-7086-4b26-ae08-e9675505f471",
   "metadata": {},
   "outputs": [
    {
     "data": {
      "text/plain": [
       "1"
      ]
     },
     "execution_count": 118,
     "metadata": {},
     "output_type": "execute_result"
    }
   ],
   "source": [
    "a % 2"
   ]
  },
  {
   "cell_type": "code",
   "execution_count": 155,
   "id": "e5e91771-9deb-487a-80f0-a3cc3d99db74",
   "metadata": {},
   "outputs": [],
   "source": [
    "a = 4.2"
   ]
  },
  {
   "cell_type": "code",
   "execution_count": 164,
   "id": "bf57aae0-5fe1-4a6d-b057-93e7088b2363",
   "metadata": {},
   "outputs": [
    {
     "data": {
      "text/plain": [
       "True"
      ]
     },
     "execution_count": 164,
     "metadata": {},
     "output_type": "execute_result"
    }
   ],
   "source": [
    "int(a) % 2 == 0"
   ]
  },
  {
   "cell_type": "code",
   "execution_count": 157,
   "id": "51c0d157-5a74-4591-9628-071ad9657ab8",
   "metadata": {},
   "outputs": [
    {
     "data": {
      "text/plain": [
       "False"
      ]
     },
     "execution_count": 157,
     "metadata": {},
     "output_type": "execute_result"
    }
   ],
   "source": [
    "a % 2 == 1"
   ]
  },
  {
   "cell_type": "code",
   "execution_count": 158,
   "id": "52ff3f3a-908e-4e6e-80cf-34dac0869cc9",
   "metadata": {},
   "outputs": [
    {
     "name": "stdout",
     "output_type": "stream",
     "text": [
      "???\n"
     ]
    }
   ],
   "source": [
    "if(a % 2 == 1):\n",
    "    print(\"a是奇数\")\n",
    "    print(\"hello\")\n",
    "elif(a % 2 == 0):\n",
    "    print(\"a是偶数\")\n",
    "else:\n",
    "    print(\"???\")"
   ]
  },
  {
   "cell_type": "code",
   "execution_count": 165,
   "id": "730f72f2-7f37-4d3a-8cfd-1656bcdca292",
   "metadata": {},
   "outputs": [
    {
     "name": "stdout",
     "output_type": "stream",
     "text": [
      "a不是奇数\n"
     ]
    }
   ],
   "source": [
    "if(a%2==1):\n",
    "    print(\"a是奇数\")\n",
    "else:\n",
    "    print(\"a不是奇数\")"
   ]
  },
  {
   "cell_type": "code",
   "execution_count": 171,
   "id": "9f145a38-3c68-4699-80ef-87850c1f0eb7",
   "metadata": {},
   "outputs": [
    {
     "name": "stdout",
     "output_type": "stream",
     "text": [
      "hey\n"
     ]
    }
   ],
   "source": [
    "if():\n",
    "    print(\"hoho\")\n",
    "else:\n",
    "    print(\"hey\")"
   ]
  },
  {
   "cell_type": "code",
   "execution_count": 172,
   "id": "aa67d7dc-4f7c-4355-8367-18835a41abe7",
   "metadata": {},
   "outputs": [
    {
     "data": {
      "text/plain": [
       "False"
      ]
     },
     "execution_count": 172,
     "metadata": {},
     "output_type": "execute_result"
    }
   ],
   "source": [
    "bool(None)"
   ]
  },
  {
   "cell_type": "code",
   "execution_count": 212,
   "id": "4fb052b4-bdfd-4825-a008-768aaa8e381d",
   "metadata": {},
   "outputs": [],
   "source": [
    "l = [5,7,10,4.2,141,41450,1.3]"
   ]
  },
  {
   "cell_type": "code",
   "execution_count": 213,
   "id": "76b3652f-8381-4420-a335-94d75916dad0",
   "metadata": {},
   "outputs": [],
   "source": [
    "if(l[0]%2==0):\n",
    "    print(\"yes\")"
   ]
  },
  {
   "cell_type": "code",
   "execution_count": 214,
   "id": "e93e64eb-93d7-4513-af76-0eff8ca77d4c",
   "metadata": {},
   "outputs": [],
   "source": [
    "if(l[1]%2==0):\n",
    "    print(\"yes\")"
   ]
  },
  {
   "cell_type": "code",
   "execution_count": 215,
   "id": "50ca92b6-87cf-4de3-a341-106eedd80ac2",
   "metadata": {},
   "outputs": [
    {
     "name": "stdout",
     "output_type": "stream",
     "text": [
      "yes\n"
     ]
    }
   ],
   "source": [
    "if(l[2]%2==0):\n",
    "    print(\"yes\")"
   ]
  },
  {
   "cell_type": "code",
   "execution_count": 216,
   "id": "7d51a647-328b-4cf8-ba4f-9a737e41cb88",
   "metadata": {},
   "outputs": [
    {
     "data": {
      "text/plain": [
       "4.2"
      ]
     },
     "execution_count": 216,
     "metadata": {},
     "output_type": "execute_result"
    }
   ],
   "source": [
    "l[3]"
   ]
  },
  {
   "cell_type": "code",
   "execution_count": 217,
   "id": "bdd3e456-bf0d-49a6-b21b-4c59dfe9a39e",
   "metadata": {},
   "outputs": [
    {
     "data": {
      "text/plain": [
       "141"
      ]
     },
     "execution_count": 217,
     "metadata": {},
     "output_type": "execute_result"
    }
   ],
   "source": [
    "l[4]"
   ]
  },
  {
   "cell_type": "code",
   "execution_count": 223,
   "id": "94db123b-1a30-4ad0-b28a-68f3d2ae1e5e",
   "metadata": {},
   "outputs": [
    {
     "name": "stdout",
     "output_type": "stream",
     "text": [
      "5 是奇数\n",
      "7 是奇数\n",
      "10 是偶数\n",
      "数组里混入了怪东西！快看看\n"
     ]
    }
   ],
   "source": [
    "for number in l:\n",
    "    if(number % 2 == 0):\n",
    "        print(number,\"是偶数\")\n",
    "    elif(number % 2 == 1):\n",
    "        print(number,\"是奇数\")\n",
    "    else:\n",
    "        print(\"数组里混入了怪东西！快看看\")\n",
    "        break"
   ]
  },
  {
   "cell_type": "code",
   "execution_count": 221,
   "id": "df14931a-f7df-495b-bc00-4d6839ef1c6e",
   "metadata": {},
   "outputs": [
    {
     "data": {
      "text/plain": [
       "7"
      ]
     },
     "execution_count": 221,
     "metadata": {},
     "output_type": "execute_result"
    }
   ],
   "source": [
    "len(l)"
   ]
  },
  {
   "cell_type": "code",
   "execution_count": 238,
   "id": "3956424d-3332-498d-9083-4574ae01666f",
   "metadata": {},
   "outputs": [
    {
     "name": "stdout",
     "output_type": "stream",
     "text": [
      "5 是奇数\n",
      "7 是奇数\n",
      "10 是偶数\n",
      "数组里混入了怪东西！快看看\n",
      "141 是奇数\n",
      "41450 是偶数\n",
      "数组里混入了怪东西！快看看\n"
     ]
    }
   ],
   "source": [
    "i = 0\n",
    "while(i < len(l)):\n",
    "    number = l[i]\n",
    "    if(number % 2 == 0):\n",
    "        print(number,\"是偶数\")\n",
    "    elif(number % 2 == 1):\n",
    "        print(number,\"是奇数\")\n",
    "    else:\n",
    "        print(\"数组里混入了怪东西！快看看\")\n",
    "    i += 1"
   ]
  },
  {
   "cell_type": "code",
   "execution_count": 241,
   "id": "9a2e7d30-794b-4ff9-9afe-318e5fe66619",
   "metadata": {},
   "outputs": [],
   "source": [
    "l = list([1,2,3,4,5,6,7,8])"
   ]
  },
  {
   "cell_type": "code",
   "execution_count": 243,
   "id": "8e2c6432-0245-4f83-95ac-0f37442c2a14",
   "metadata": {},
   "outputs": [
    {
     "data": {
      "text/plain": [
       "list"
      ]
     },
     "execution_count": 243,
     "metadata": {},
     "output_type": "execute_result"
    }
   ],
   "source": [
    "type(l)"
   ]
  },
  {
   "cell_type": "code",
   "execution_count": 244,
   "id": "ca6b9a1b-7a47-4837-aae9-9068be18cbe9",
   "metadata": {},
   "outputs": [],
   "source": [
    "l = [1,1.2,-1,\"hello\",True,None]"
   ]
  },
  {
   "cell_type": "code",
   "execution_count": 246,
   "id": "4c01eb0e-e319-4cd8-bb6c-f007b76dec99",
   "metadata": {},
   "outputs": [],
   "source": [
    "l.append(\"hey\")"
   ]
  },
  {
   "cell_type": "code",
   "execution_count": 250,
   "id": "f4b4b4f3-b070-464a-bd02-5b74b8a660f0",
   "metadata": {},
   "outputs": [],
   "source": [
    "l = [\"hoho\"] + l"
   ]
  },
  {
   "cell_type": "code",
   "execution_count": 252,
   "id": "6c3db44c-8205-4c6c-9eb9-f1d22dca447e",
   "metadata": {},
   "outputs": [],
   "source": [
    "dic = {}"
   ]
  },
  {
   "cell_type": "code",
   "execution_count": 254,
   "id": "7d592a5d-501e-48ba-8411-b3509ca06310",
   "metadata": {},
   "outputs": [
    {
     "data": {
      "text/plain": [
       "dict"
      ]
     },
     "execution_count": 254,
     "metadata": {},
     "output_type": "execute_result"
    }
   ],
   "source": [
    "type(dic)"
   ]
  },
  {
   "cell_type": "code",
   "execution_count": 265,
   "id": "6009857f-2357-4de2-9813-d78c1dcccffc",
   "metadata": {},
   "outputs": [],
   "source": [
    "dic = {\n",
    "    \"主播\":\n",
    "        {\n",
    "            \"名字\":\"鹿桑\",\n",
    "            \"年龄\":18,\n",
    "            \"地区\":\"中国\",\n",
    "            \"专业\":\"CS\",\n",
    "        },\n",
    "    \"观众\":{\n",
    "            \"名字\":\"豆汁儿\",\n",
    "            \"年龄\":20,\n",
    "            \"地区\":\"中国\",},\n",
    "}"
   ]
  },
  {
   "cell_type": "code",
   "execution_count": 266,
   "id": "df468614-a92b-4862-b3cc-66d0eff70816",
   "metadata": {},
   "outputs": [
    {
     "data": {
      "text/plain": [
       "{'主播': {'名字': '鹿桑', '年龄': 18, '地区': '中国', '专业': 'CS'},\n",
       " '观众': {'名字': '豆汁儿', '年龄': 20, '地区': '中国'}}"
      ]
     },
     "execution_count": 266,
     "metadata": {},
     "output_type": "execute_result"
    }
   ],
   "source": [
    "dic"
   ]
  },
  {
   "cell_type": "code",
   "execution_count": 269,
   "id": "7f22d97c-ece1-4bd2-a4bb-4eb9617e228e",
   "metadata": {},
   "outputs": [
    {
     "ename": "KeyError",
     "evalue": "'平台'",
     "output_type": "error",
     "traceback": [
      "\u001b[0;31m---------------------------------------------------------------------------\u001b[0m",
      "\u001b[0;31mKeyError\u001b[0m                                  Traceback (most recent call last)",
      "Input \u001b[0;32mIn [269]\u001b[0m, in \u001b[0;36m<module>\u001b[0;34m\u001b[0m\n\u001b[0;32m----> 1\u001b[0m \u001b[43mdic\u001b[49m\u001b[43m[\u001b[49m\u001b[38;5;124;43m'\u001b[39;49m\u001b[38;5;124;43m平台\u001b[39;49m\u001b[38;5;124;43m'\u001b[39;49m\u001b[43m]\u001b[49m\n",
      "\u001b[0;31mKeyError\u001b[0m: '平台'"
     ]
    }
   ],
   "source": [
    "dic['平台']"
   ]
  },
  {
   "cell_type": "code",
   "execution_count": 268,
   "id": "3433ac55-f679-4737-9e4e-c4668108d5f5",
   "metadata": {},
   "outputs": [
    {
     "ename": "KeyError",
     "evalue": "'专业'",
     "output_type": "error",
     "traceback": [
      "\u001b[0;31m---------------------------------------------------------------------------\u001b[0m",
      "\u001b[0;31mKeyError\u001b[0m                                  Traceback (most recent call last)",
      "Input \u001b[0;32mIn [268]\u001b[0m, in \u001b[0;36m<module>\u001b[0;34m\u001b[0m\n\u001b[0;32m----> 1\u001b[0m \u001b[43mdic\u001b[49m\u001b[43m[\u001b[49m\u001b[38;5;124;43m'\u001b[39;49m\u001b[38;5;124;43m观众\u001b[39;49m\u001b[38;5;124;43m'\u001b[39;49m\u001b[43m]\u001b[49m\u001b[43m[\u001b[49m\u001b[38;5;124;43m\"\u001b[39;49m\u001b[38;5;124;43m专业\u001b[39;49m\u001b[38;5;124;43m\"\u001b[39;49m\u001b[43m]\u001b[49m\n",
      "\u001b[0;31mKeyError\u001b[0m: '专业'"
     ]
    }
   ],
   "source": [
    "dic['观众'][\"专业\"]"
   ]
  },
  {
   "cell_type": "code",
   "execution_count": 272,
   "id": "4228d7fa-3d10-473a-8863-93808544b7b6",
   "metadata": {},
   "outputs": [],
   "source": [
    "s = set([1,3,5,7,1,23,1,3])"
   ]
  },
  {
   "cell_type": "code",
   "execution_count": 284,
   "id": "0fd86a72-30c9-4fba-98b7-d43222b588e6",
   "metadata": {},
   "outputs": [
    {
     "data": {
      "text/plain": [
       "{1, 3, 5, 7, 23}"
      ]
     },
     "execution_count": 284,
     "metadata": {},
     "output_type": "execute_result"
    }
   ],
   "source": [
    "s"
   ]
  },
  {
   "cell_type": "code",
   "execution_count": 285,
   "id": "f3708509-3fd4-4602-b6f6-d743e79df58b",
   "metadata": {},
   "outputs": [
    {
     "data": {
      "text/plain": [
       "False"
      ]
     },
     "execution_count": 285,
     "metadata": {},
     "output_type": "execute_result"
    }
   ],
   "source": [
    "1.5 in s"
   ]
  },
  {
   "cell_type": "code",
   "execution_count": 278,
   "id": "9b3be67e-795f-4d66-9727-5517cdd1338d",
   "metadata": {},
   "outputs": [],
   "source": [
    "s2 = set([1,3,\"ahaha\",1.5,8,1.5,1.50])"
   ]
  },
  {
   "cell_type": "code",
   "execution_count": 279,
   "id": "17222bb0-f88d-4227-9995-44a4e20c76b8",
   "metadata": {},
   "outputs": [
    {
     "data": {
      "text/plain": [
       "{1, 1.5, 3, 8, 'ahaha'}"
      ]
     },
     "execution_count": 279,
     "metadata": {},
     "output_type": "execute_result"
    }
   ],
   "source": [
    "s2"
   ]
  },
  {
   "cell_type": "code",
   "execution_count": 286,
   "id": "90b1bdad-1729-4ce0-90f0-da74c50c38a9",
   "metadata": {},
   "outputs": [
    {
     "data": {
      "text/plain": [
       "True"
      ]
     },
     "execution_count": 286,
     "metadata": {},
     "output_type": "execute_result"
    }
   ],
   "source": [
    "1.5 in s2"
   ]
  },
  {
   "cell_type": "code",
   "execution_count": 288,
   "id": "e1b18064-ea6b-44f2-9ddc-e195d4f99aae",
   "metadata": {},
   "outputs": [],
   "source": [
    "s.add(\"hoho\")"
   ]
  },
  {
   "cell_type": "code",
   "execution_count": 289,
   "id": "12277711-1cb7-4323-b463-e328fe06d14d",
   "metadata": {},
   "outputs": [
    {
     "data": {
      "text/plain": [
       "{1, 23, 3, 5, 7, 'hoho'}"
      ]
     },
     "execution_count": 289,
     "metadata": {},
     "output_type": "execute_result"
    }
   ],
   "source": [
    "s"
   ]
  },
  {
   "cell_type": "code",
   "execution_count": 292,
   "id": "d5a35e47-6998-49f2-b702-e94347997f5d",
   "metadata": {},
   "outputs": [
    {
     "data": {
      "text/plain": [
       "{1, 1.5, 3, 8, 'ahaha'}"
      ]
     },
     "execution_count": 292,
     "metadata": {},
     "output_type": "execute_result"
    }
   ],
   "source": [
    "s2"
   ]
  },
  {
   "cell_type": "code",
   "execution_count": 293,
   "id": "58a123f9-bf79-494c-845d-1b96c7baf6b9",
   "metadata": {},
   "outputs": [
    {
     "data": {
      "text/plain": [
       "{23, 5, 7, 'hoho'}"
      ]
     },
     "execution_count": 293,
     "metadata": {},
     "output_type": "execute_result"
    }
   ],
   "source": [
    "s-s2"
   ]
  },
  {
   "cell_type": "code",
   "execution_count": 294,
   "id": "e198c108-9919-4e07-b287-2821112e72d8",
   "metadata": {},
   "outputs": [
    {
     "data": {
      "text/plain": [
       "{1.5, 8, 'ahaha'}"
      ]
     },
     "execution_count": 294,
     "metadata": {},
     "output_type": "execute_result"
    }
   ],
   "source": [
    "s2 - s"
   ]
  },
  {
   "cell_type": "code",
   "execution_count": 300,
   "id": "c309856b-acdb-421c-9d26-de49b3c5cdfb",
   "metadata": {},
   "outputs": [],
   "source": [
    "s3 = s.intersection(s2)"
   ]
  },
  {
   "cell_type": "code",
   "execution_count": 301,
   "id": "be218ada-adac-422e-87e8-4b25dabf43b0",
   "metadata": {},
   "outputs": [],
   "source": [
    "s4 = s.union(s2)"
   ]
  },
  {
   "cell_type": "code",
   "execution_count": 298,
   "id": "a0865b46-f19b-4b83-9beb-37efe4290c33",
   "metadata": {},
   "outputs": [
    {
     "data": {
      "text/plain": [
       "{1, 23, 3, 5, 7, 'hoho'}"
      ]
     },
     "execution_count": 298,
     "metadata": {},
     "output_type": "execute_result"
    }
   ],
   "source": [
    "s"
   ]
  },
  {
   "cell_type": "code",
   "execution_count": 299,
   "id": "11413f60-219d-4f97-8734-06ad7ed11639",
   "metadata": {},
   "outputs": [
    {
     "data": {
      "text/plain": [
       "{1, 1.5, 3, 8, 'ahaha'}"
      ]
     },
     "execution_count": 299,
     "metadata": {},
     "output_type": "execute_result"
    }
   ],
   "source": [
    "s2"
   ]
  },
  {
   "cell_type": "code",
   "execution_count": 302,
   "id": "7e42da80-694f-4ddf-87a8-17da4131c96e",
   "metadata": {},
   "outputs": [
    {
     "data": {
      "text/plain": [
       "{1, 3}"
      ]
     },
     "execution_count": 302,
     "metadata": {},
     "output_type": "execute_result"
    }
   ],
   "source": [
    "s3"
   ]
  },
  {
   "cell_type": "code",
   "execution_count": 303,
   "id": "ab2bf53e-cfef-450c-9c85-1c375e866a1a",
   "metadata": {},
   "outputs": [
    {
     "data": {
      "text/plain": [
       "{1, 1.5, 23, 3, 5, 7, 8, 'ahaha', 'hoho'}"
      ]
     },
     "execution_count": 303,
     "metadata": {},
     "output_type": "execute_result"
    }
   ],
   "source": [
    "s4"
   ]
  },
  {
   "cell_type": "code",
   "execution_count": 290,
   "id": "84bc4c50-3d8a-400e-9682-90e32d2936b0",
   "metadata": {},
   "outputs": [
    {
     "data": {
      "text/plain": [
       "{23, 5, 7, 'hoho'}"
      ]
     },
     "execution_count": 290,
     "metadata": {},
     "output_type": "execute_result"
    }
   ],
   "source": [
    "s-s2 s当中的所有不在s2中的元素 -》 s去掉s与s2的交集后的集合"
   ]
  },
  {
   "cell_type": "code",
   "execution_count": null,
   "id": "636502a3-ef67-4526-82cd-a00e7d0e01c4",
   "metadata": {},
   "outputs": [],
   "source": [
    "O(1) < O(log(N)) < O(N) < O(N**2) < O(N**3) ...."
   ]
  }
 ],
 "metadata": {
  "kernelspec": {
   "display_name": "Python 3 (ipykernel)",
   "language": "python",
   "name": "python3"
  },
  "language_info": {
   "codemirror_mode": {
    "name": "ipython",
    "version": 3
   },
   "file_extension": ".py",
   "mimetype": "text/x-python",
   "name": "python",
   "nbconvert_exporter": "python",
   "pygments_lexer": "ipython3",
   "version": "3.8.10"
  }
 },
 "nbformat": 4,
 "nbformat_minor": 5
}
